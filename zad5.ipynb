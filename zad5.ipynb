{
 "cells": [
  {
   "cell_type": "markdown",
   "metadata": {},
   "source": [
    "Metoda range_float\n",
    "\n",
    "Napisz metodę range_float, zachowującą się identycznie jak metoda wbudowana range, ale dla liczb zmiennoprzecinkowych."
   ]
  },
  {
   "cell_type": "code",
   "execution_count": 27,
   "metadata": {},
   "outputs": [],
   "source": [
    "def range_float(start: float, end: float, step: float):\n",
    "    _step = str(step).split('.')\n",
    "    decimal_zeros = len(_step[-1])\n",
    "    while True:\n",
    "        if start <= end:\n",
    "            yield f'{start:.{decimal_zeros}f}'\n",
    "            start += step\n",
    "        else:\n",
    "            break"
   ]
  },
  {
   "cell_type": "code",
   "execution_count": 31,
   "metadata": {},
   "outputs": [
    {
     "name": "stdout",
     "output_type": "stream",
     "text": [
      "0.10\n",
      "0.11\n",
      "0.12\n",
      "0.13\n",
      "0.14\n",
      "0.15\n",
      "0.16\n",
      "0.17\n",
      "0.18\n",
      "0.19\n",
      "0.20\n"
     ]
    }
   ],
   "source": [
    "for el in range_float(0.1, 0.21, 0.01):\n",
    "    print(el)"
   ]
  },
  {
   "cell_type": "code",
   "execution_count": 32,
   "metadata": {},
   "outputs": [
    {
     "name": "stdout",
     "output_type": "stream",
     "text": [
      "1.0\n",
      "2.1\n",
      "3.2\n",
      "4.3\n",
      "5.4\n",
      "6.5\n",
      "7.6\n",
      "8.7\n",
      "9.8\n",
      "10.9\n",
      "12.0\n"
     ]
    }
   ],
   "source": [
    "for el in range_float(1, 13, 1.1):\n",
    "    print(el)"
   ]
  },
  {
   "cell_type": "code",
   "execution_count": null,
   "metadata": {},
   "outputs": [],
   "source": []
  }
 ],
 "metadata": {
  "kernelspec": {
   "display_name": "Python 3.9.12 ('base')",
   "language": "python",
   "name": "python3"
  },
  "language_info": {
   "codemirror_mode": {
    "name": "ipython",
    "version": 3
   },
   "file_extension": ".py",
   "mimetype": "text/x-python",
   "name": "python",
   "nbconvert_exporter": "python",
   "pygments_lexer": "ipython3",
   "version": "3.9.12"
  },
  "orig_nbformat": 4,
  "vscode": {
   "interpreter": {
    "hash": "6bf935109b51d5a61976269f5fda458e5ad0be9f60433eebe09071d2ba589f32"
   }
  }
 },
 "nbformat": 4,
 "nbformat_minor": 2
}
