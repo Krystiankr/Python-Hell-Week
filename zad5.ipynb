{
 "cells": [
  {
   "cell_type": "markdown",
   "metadata": {},
   "source": [
    "Metoda range_float\n",
    "\n",
    "Napisz metodę range_float, zachowującą się identycznie jak metoda wbudowana range, ale dla liczb zmiennoprzecinkowych."
   ]
  },
  {
   "cell_type": "code",
   "execution_count": 46,
   "metadata": {},
   "outputs": [],
   "source": [
    "from typing import Generator\n",
    "def range_float(*args) -> Generator[float, None, None]:\n",
    "    if len(args) < 3:\n",
    "        step = 1\n",
    "    if len(args) == 1:\n",
    "        start, end = 0, args[0]\n",
    "    if len(args) == 2:\n",
    "        start, end = args\n",
    "    if len(args) == 3:\n",
    "        start, end, step = args\n",
    "\n",
    "    _step = str(step).split('.')\n",
    "    decimal_zeros = len(_step[-1])\n",
    "    while True:\n",
    "        if step > 0:\n",
    "            if start < end:\n",
    "                yield float(f'{start:.{decimal_zeros}f}')\n",
    "                start += step\n",
    "            else:\n",
    "                break\n",
    "        else:\n",
    "            if start > end:\n",
    "                yield float(f'{start:.{decimal_zeros}f}')\n",
    "                start += step\n",
    "            else:\n",
    "                break"
   ]
  },
  {
   "cell_type": "code",
   "execution_count": 50,
   "metadata": {},
   "outputs": [
    {
     "data": {
      "text/plain": [
       "[0.0, 1.9, 3.8, 5.7, 7.6, 9.5]"
      ]
     },
     "execution_count": 50,
     "metadata": {},
     "output_type": "execute_result"
    }
   ],
   "source": [
    "list(range_float(0, 10, 1.9))"
   ]
  },
  {
   "cell_type": "code",
   "execution_count": 53,
   "metadata": {},
   "outputs": [
    {
     "data": {
      "text/plain": [
       "[0.0, 1.0, 2.0, 3.0, 4.0, 5.0, 6.0, 7.0, 8.0, 9.0]"
      ]
     },
     "execution_count": 53,
     "metadata": {},
     "output_type": "execute_result"
    }
   ],
   "source": [
    "list(range_float(10))"
   ]
  },
  {
   "cell_type": "code",
   "execution_count": 57,
   "metadata": {},
   "outputs": [
    {
     "data": {
      "text/plain": [
       "[2.0, 3.0, 4.0, 5.0, 6.0, 7.0, 8.0, 9.0]"
      ]
     },
     "execution_count": 57,
     "metadata": {},
     "output_type": "execute_result"
    }
   ],
   "source": [
    "list(range_float(2, 10))"
   ]
  },
  {
   "cell_type": "code",
   "execution_count": 55,
   "metadata": {},
   "outputs": [
    {
     "data": {
      "text/plain": [
       "[0.1, 0.11, 0.12, 0.13, 0.14, 0.15, 0.16, 0.17, 0.18, 0.19, 0.2]"
      ]
     },
     "execution_count": 55,
     "metadata": {},
     "output_type": "execute_result"
    }
   ],
   "source": [
    "list(range_float(0.1, 0.21, 0.01))"
   ]
  },
  {
   "cell_type": "code",
   "execution_count": 56,
   "metadata": {},
   "outputs": [
    {
     "data": {
      "text/plain": [
       "[0.21,\n",
       " 0.2,\n",
       " 0.19,\n",
       " 0.18,\n",
       " 0.17,\n",
       " 0.16,\n",
       " 0.15,\n",
       " 0.14,\n",
       " 0.13,\n",
       " 0.12,\n",
       " 0.11,\n",
       " 0.1,\n",
       " 0.09,\n",
       " 0.08,\n",
       " 0.07,\n",
       " 0.06]"
      ]
     },
     "execution_count": 56,
     "metadata": {},
     "output_type": "execute_result"
    }
   ],
   "source": [
    "list(range_float(0.21, 0.05, -0.01))"
   ]
  }
 ],
 "metadata": {
  "kernelspec": {
   "display_name": "Python 3.9.12 ('base')",
   "language": "python",
   "name": "python3"
  },
  "language_info": {
   "codemirror_mode": {
    "name": "ipython",
    "version": 3
   },
   "file_extension": ".py",
   "mimetype": "text/x-python",
   "name": "python",
   "nbconvert_exporter": "python",
   "pygments_lexer": "ipython3",
   "version": "3.9.12"
  },
  "orig_nbformat": 4,
  "vscode": {
   "interpreter": {
    "hash": "6bf935109b51d5a61976269f5fda458e5ad0be9f60433eebe09071d2ba589f32"
   }
  }
 },
 "nbformat": 4,
 "nbformat_minor": 2
}
