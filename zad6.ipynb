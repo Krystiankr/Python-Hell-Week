{
 "cells": [
  {
   "cell_type": "markdown",
   "metadata": {},
   "source": [
    "Magiczne kwadraty\n",
    "\n",
    "Napisz program, który sprawdzi, czy podany w pliku tekstowym kwadrat, jest kwadratem magicznym.\n",
    "\n",
    "To znaczy czy w każdej kolumnie, wierszu i po obu przekątnych suma wartości jest taka sama.\n",
    "\n",
    "Załóż, że w podanym pliku tekstowym znajduje się tylko 1 magiczny kwadrat.\n",
    "\n",
    "Dodatkowo niech program sprawdzi czy wszystkie wartości w kwadracie są unikalne."
   ]
  },
  {
   "cell_type": "code",
   "execution_count": 45,
   "metadata": {},
   "outputs": [],
   "source": [
    "def magic_square(magic_list: list) -> bool:\n",
    "    checker = sum(magic_list[0])\n",
    "    list_length = len(magic_list[0])\n",
    "    # check unique values\n",
    "    if len(set([col for row in magic_list for col in row])) != list_length ** 2:\n",
    "        return False\n",
    "\n",
    "    # check horizonal\n",
    "    for row in magic_list:\n",
    "        if sum(row) != checker:\n",
    "            return False\n",
    "\n",
    "    # check vertical\n",
    "    for i in range(len(magic_list)):\n",
    "        column = list(map(lambda x: x[i], magic_list))\n",
    "        if sum(column) != checker:\n",
    "            return False\n",
    "            \n",
    "    # check diagonal\n",
    "    diag = [magic_list[i][i] for i in range(list_length)]\n",
    "    diag_revert = [magic_list[i][list_length-i-1] for i in range(list_length)]\n",
    "    if sum(diag) != checker:\n",
    "            return False\n",
    "    if sum(diag_revert) != checker:\n",
    "            return False    \n",
    "    return True"
   ]
  },
  {
   "cell_type": "code",
   "execution_count": 46,
   "metadata": {},
   "outputs": [],
   "source": [
    "test1 = [[2, 7, 6], [9, 5, 1], [4, 3, 8]]\n",
    "test2 = [[6, 1, 8], [7, 5, 3], [2, 9, 4]]\n",
    "test3 = [[1, 1, 1], [1, 1, 1], [1, 1, 1]]\n",
    "test4 = [[2, 7, 6], [9, 5, 2], [4, 3, 8]]\n",
    "test5 = [[4, 14, 15, 1], [9, 7, 6, 12], [5, 11, 10, 8], [16, 2, 3, 13]]\n",
    "test6 = [[4, 4, 4, 4], [4, 4, 4, 4], [4, 4, 4, 4], [4, 4, 4, 4]]\n",
    "\n",
    "assert magic_square(test1) == True\n",
    "assert magic_square(test2) == True\n",
    "assert magic_square(test3) == False\n",
    "assert magic_square(test4) == False\n",
    "assert magic_square(test5) == True\n",
    "assert magic_square(test6) == False"
   ]
  },
  {
   "cell_type": "code",
   "execution_count": null,
   "metadata": {},
   "outputs": [],
   "source": []
  }
 ],
 "metadata": {
  "kernelspec": {
   "display_name": "Python 3.9.13 64-bit (microsoft store)",
   "language": "python",
   "name": "python3"
  },
  "language_info": {
   "codemirror_mode": {
    "name": "ipython",
    "version": 3
   },
   "file_extension": ".py",
   "mimetype": "text/x-python",
   "name": "python",
   "nbconvert_exporter": "python",
   "pygments_lexer": "ipython3",
   "version": "3.9.13"
  },
  "orig_nbformat": 4,
  "vscode": {
   "interpreter": {
    "hash": "068001a723afb0310fab0a7ff1c6ed8c8361e9113705f0e55230ead671caff97"
   }
  }
 },
 "nbformat": 4,
 "nbformat_minor": 2
}
