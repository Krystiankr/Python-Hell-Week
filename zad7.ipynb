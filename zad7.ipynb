{
 "cells": [
  {
   "cell_type": "code",
   "execution_count": 296,
   "metadata": {},
   "outputs": [],
   "source": [
    "from typing import List\n",
    "from abc import ABC, abstractmethod\n",
    "import csv\n",
    "import math"
   ]
  },
  {
   "cell_type": "code",
   "execution_count": 297,
   "metadata": {},
   "outputs": [],
   "source": [
    "class Figure(ABC):\n",
    "    dimensions: dict\n",
    "\n",
    "    def __init__(self, **dimensions) -> None:\n",
    "        self.dimensions = {key: int(value) for key, value in dimensions.items()}\n",
    "\n",
    "    @abstractmethod\n",
    "    def get_area():\n",
    "        pass\n",
    "\n",
    "    def __repr__(self) -> str:\n",
    "        return f'[{self.__class__.__name__:<9}], area={self.get_area():<6.2f}, dimensions={self.dimensions}'"
   ]
  },
  {
   "cell_type": "code",
   "execution_count": 298,
   "metadata": {},
   "outputs": [],
   "source": [
    "class Square(Figure):\n",
    "    def __init__(self, **dimensions) -> None:\n",
    "        super().__init__(**dimensions)\n",
    "\n",
    "    def get_area(self):\n",
    "        return self.dimensions['a'] ** 2\n",
    "\n",
    "    def __repr__(self) -> str:\n",
    "        return super().__repr__()"
   ]
  },
  {
   "cell_type": "code",
   "execution_count": 299,
   "metadata": {},
   "outputs": [],
   "source": [
    "class Circle(Figure):\n",
    "    def __init__(self, **dimensions) -> None:\n",
    "        super().__init__(**dimensions)\n",
    "\n",
    "    def get_area(self):\n",
    "        return math.pi * self.dimensions['r'] ** 2\n",
    "\n",
    "    def __repr__(self) -> str:\n",
    "        return super().__repr__()"
   ]
  },
  {
   "cell_type": "code",
   "execution_count": 300,
   "metadata": {},
   "outputs": [],
   "source": [
    "class Triangle(Figure):\n",
    "    def __init__(self, **dimensions) -> None:\n",
    "        super().__init__(**dimensions)\n",
    "\n",
    "    def get_area(self):\n",
    "        return (self.dimensions['a'] * self.dimensions['h']) / 2\n",
    "\n",
    "    def __repr__(self) -> str:\n",
    "        return super().__repr__()"
   ]
  },
  {
   "cell_type": "code",
   "execution_count": 301,
   "metadata": {},
   "outputs": [],
   "source": [
    "class Trapezoid(Figure):\n",
    "    def __init__(self, **dimensions) -> None:\n",
    "        super().__init__(**dimensions)\n",
    "\n",
    "    def get_area(self):\n",
    "        return (self.dimensions['a'] + self.dimensions['b']) * self.dimensions['h'] / 2\n",
    "\n",
    "    def __repr__(self) -> str:\n",
    "        return super().__repr__()"
   ]
  },
  {
   "cell_type": "code",
   "execution_count": 302,
   "metadata": {},
   "outputs": [],
   "source": [
    "with open('figures.txt', newline='') as f:\n",
    "    reader = csv.reader(f)\n",
    "    figures = list(reader)\n",
    "\n",
    "with open('figures_schema.txt', newline='') as f:\n",
    "    reader = csv.reader(f)\n",
    "    figures_definition = list(reader)[1:]"
   ]
  },
  {
   "cell_type": "code",
   "execution_count": 303,
   "metadata": {},
   "outputs": [
    {
     "data": {
      "text/plain": [
       "([['kwadrat', '3'],\n",
       "  ['trojkat', '2', '5'],\n",
       "  ['trapez', '10', '20', '3'],\n",
       "  ['kolo', '10']],\n",
       " [['kwadrat', 'a'],\n",
       "  ['trojkat', 'a', 'h'],\n",
       "  ['trapez', 'a', 'b', 'h'],\n",
       "  ['kolo', 'r']])"
      ]
     },
     "execution_count": 303,
     "metadata": {},
     "output_type": "execute_result"
    }
   ],
   "source": [
    "figures, figures_definition"
   ]
  },
  {
   "cell_type": "code",
   "execution_count": 304,
   "metadata": {},
   "outputs": [
    {
     "data": {
      "text/plain": [
       "[{'kwadrat': 'kwadrat', 'a': '3'},\n",
       " {'trojkat': 'trojkat', 'a': '2', 'h': '5'},\n",
       " {'trapez': 'trapez', 'a': '10', 'b': '20', 'h': '3'},\n",
       " {'kolo': 'kolo', 'r': '10'}]"
      ]
     },
     "execution_count": 304,
     "metadata": {},
     "output_type": "execute_result"
    }
   ],
   "source": [
    "mapped_figures = [dict(zip(definition, element)) for definition, element in zip(figures_definition, figures)]\n",
    "mapped_figures"
   ]
  },
  {
   "cell_type": "code",
   "execution_count": 305,
   "metadata": {},
   "outputs": [
    {
     "data": {
      "text/plain": [
       "{'kwadrat': __main__.Square,\n",
       " 'trojkat': __main__.Triangle,\n",
       " 'trapez': __main__.Trapezoid,\n",
       " 'kolo': __main__.Circle}"
      ]
     },
     "execution_count": 305,
     "metadata": {},
     "output_type": "execute_result"
    }
   ],
   "source": [
    "mapped_types = {'kwadrat': Square, 'trojkat': Triangle, 'trapez': Trapezoid, 'kolo': Circle}\n",
    "mapped_types"
   ]
  },
  {
   "cell_type": "code",
   "execution_count": 306,
   "metadata": {},
   "outputs": [
    {
     "name": "stdout",
     "output_type": "stream",
     "text": [
      "[Square   ], area=9.00  , dimensions={'a': 3}\n",
      "[Triangle ], area=5.00  , dimensions={'a': 2, 'h': 5}\n",
      "[Trapezoid], area=45.00 , dimensions={'a': 10, 'b': 20, 'h': 3}\n",
      "[Circle   ], area=314.16, dimensions={'r': 10}\n"
     ]
    }
   ],
   "source": [
    "for _figure in mapped_figures:\n",
    "    figure_type = list(set(_figure.values()) & set(_figure.keys()))[0]\n",
    "    _figure.pop(figure_type)\n",
    "    new_figure = mapped_types[figure_type](**_figure)\n",
    "    print(new_figure)"
   ]
  }
 ],
 "metadata": {
  "kernelspec": {
   "display_name": "Python 3.9.7 ('base')",
   "language": "python",
   "name": "python3"
  },
  "language_info": {
   "codemirror_mode": {
    "name": "ipython",
    "version": 3
   },
   "file_extension": ".py",
   "mimetype": "text/x-python",
   "name": "python",
   "nbconvert_exporter": "python",
   "pygments_lexer": "ipython3",
   "version": "3.9.7"
  },
  "orig_nbformat": 4,
  "vscode": {
   "interpreter": {
    "hash": "1f2e0de83fe549855a174fb6945e5577e3413e9e9f7ec7864d0f7206f698cf70"
   }
  }
 },
 "nbformat": 4,
 "nbformat_minor": 2
}
