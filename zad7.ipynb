{
 "cells": [
  {
   "cell_type": "code",
   "execution_count": 3,
   "metadata": {},
   "outputs": [],
   "source": [
    "from typing import List\n",
    "from abc import ABC, abstractmethod"
   ]
  },
  {
   "cell_type": "code",
   "execution_count": 20,
   "metadata": {},
   "outputs": [],
   "source": [
    "class Figure(ABC):\n",
    "    dimensions: dict\n",
    "\n",
    "    def __init__(self, **dimensions) -> None:\n",
    "        self.dimensions = dimensions\n",
    "\n",
    "    @abstractmethod\n",
    "    def get_area():\n",
    "        pass\n",
    "\n",
    "    @abstractmethod\n",
    "    def get_perimeter():\n",
    "        pass\n",
    "\n",
    "    def __repr__(self) -> str:\n",
    "        return f'Class name={self.__class__.__name__}, dimensions={self.dimensions}'"
   ]
  },
  {
   "cell_type": "code",
   "execution_count": 23,
   "metadata": {},
   "outputs": [],
   "source": [
    "class Square(Figure):\n",
    "    def __init__(self, **dimensions) -> None:\n",
    "        super().__init__(**dimensions)\n",
    "\n",
    "    def get_area(self):\n",
    "        return self.dimensions ** 2\n",
    "\n",
    "    def get_perimeter(self):\n",
    "        return 2 * self.dimensions\n",
    "\n",
    "    def __repr__(self) -> str:\n",
    "        return super().__repr__()"
   ]
  },
  {
   "cell_type": "code",
   "execution_count": null,
   "metadata": {},
   "outputs": [],
   "source": [
    "class Square(Figure):\n",
    "    def __init__(self, **dimensions) -> None:\n",
    "        super().__init__(**dimensions)\n",
    "\n",
    "    def get_area(self):\n",
    "        return self.dimensions ** 2\n",
    "\n",
    "    def get_perimeter(self):\n",
    "        return 2 * self.dimensions\n",
    "\n",
    "    def __repr__(self) -> str:\n",
    "        return super().__repr__()"
   ]
  },
  {
   "cell_type": "code",
   "execution_count": 25,
   "metadata": {},
   "outputs": [
    {
     "data": {
      "text/plain": [
       "Class name=Square, dimensions={'x': 2, 'y': 10}"
      ]
     },
     "execution_count": 25,
     "metadata": {},
     "output_type": "execute_result"
    }
   ],
   "source": [
    "sqr = Square(x=2, y=10)\n",
    "sqr"
   ]
  },
  {
   "cell_type": "code",
   "execution_count": null,
   "metadata": {},
   "outputs": [],
   "source": []
  }
 ],
 "metadata": {
  "kernelspec": {
   "display_name": "Python 3.9.7 ('base')",
   "language": "python",
   "name": "python3"
  },
  "language_info": {
   "codemirror_mode": {
    "name": "ipython",
    "version": 3
   },
   "file_extension": ".py",
   "mimetype": "text/x-python",
   "name": "python",
   "nbconvert_exporter": "python",
   "pygments_lexer": "ipython3",
   "version": "3.9.7"
  },
  "orig_nbformat": 4,
  "vscode": {
   "interpreter": {
    "hash": "1f2e0de83fe549855a174fb6945e5577e3413e9e9f7ec7864d0f7206f698cf70"
   }
  }
 },
 "nbformat": 4,
 "nbformat_minor": 2
}
