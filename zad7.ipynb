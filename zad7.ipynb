{
 "cells": [
  {
   "cell_type": "code",
   "execution_count": 56,
   "metadata": {},
   "outputs": [],
   "source": [
    "from typing import List, final\n",
    "from abc import ABC, abstractmethod\n",
    "import csv\n",
    "from collections import defaultdict, Counter\n",
    "import math"
   ]
  },
  {
   "cell_type": "code",
   "execution_count": 57,
   "metadata": {},
   "outputs": [],
   "source": [
    "class Figure(ABC):\n",
    "    dimensions: dict\n",
    "    calculated_figures: defaultdict = defaultdict(list)\n",
    "\n",
    "    def __init__(self, **dimensions) -> None:\n",
    "        self.dimensions = {key: int(value) for key, value in dimensions.items()}\n",
    "        Figure.calculated_figures[self.__class__.__name__].append(self)\n",
    "\n",
    "    @abstractmethod\n",
    "    def get_area():\n",
    "        pass\n",
    "\n",
    "    @final\n",
    "    def statistics():\n",
    "        print('Figures count')\n",
    "        for items in Figure.calculated_figures:\n",
    "            figures = Figure.calculated_figures[items]\n",
    "            print(f'{items}={len(figures)}')\n",
    "            print(f'Max area = {max(figures)}')\n",
    "            print(f'Min area = {min(figures)}')\n",
    "\n",
    "    def __ge__(self, p_other: 'Figure') -> bool:\n",
    "        return self.get_area() >= p_other.get_area()\n",
    "\n",
    "    def __le__(self, p_other: 'Figure') -> bool:\n",
    "        return self.get_area() <= p_other.get_area()\n",
    "\n",
    "    def __gt__(self, p_other: 'Figure') -> bool:\n",
    "        return self.get_area() > p_other.get_area()\n",
    "\n",
    "    def __lt__(self, p_other: 'Figure') -> bool:\n",
    "        return self.get_area() < p_other.get_area()\n",
    "\n",
    "    def __eq__(self, p_other: 'Figure') -> bool:\n",
    "        return self.get_area == p_other.get_area\n",
    "\n",
    "    def __repr__(self) -> str:\n",
    "        return f'[{self.__class__.__name__:<9}], area={self.get_area():<6.2f}, dimensions={self.dimensions}'"
   ]
  },
  {
   "cell_type": "code",
   "execution_count": 58,
   "metadata": {},
   "outputs": [],
   "source": [
    "class Square(Figure):\n",
    "    def __init__(self, **dimensions) -> None:\n",
    "        super().__init__(**dimensions)\n",
    "\n",
    "    def get_area(self):\n",
    "        return self.dimensions['a'] ** 2\n",
    "\n",
    "    def __repr__(self) -> str:\n",
    "        return super().__repr__()"
   ]
  },
  {
   "cell_type": "code",
   "execution_count": 59,
   "metadata": {},
   "outputs": [],
   "source": [
    "class Circle(Figure):\n",
    "    def __init__(self, **dimensions) -> None:\n",
    "        super().__init__(**dimensions)\n",
    "\n",
    "    def get_area(self):\n",
    "        return math.pi * self.dimensions['r'] ** 2\n",
    "\n",
    "    def __repr__(self) -> str:\n",
    "        return super().__repr__()"
   ]
  },
  {
   "cell_type": "code",
   "execution_count": 60,
   "metadata": {},
   "outputs": [],
   "source": [
    "class Triangle(Figure):\n",
    "    def __init__(self, **dimensions) -> None:\n",
    "        super().__init__(**dimensions)\n",
    "\n",
    "    def get_area(self):\n",
    "        return (self.dimensions['a'] * self.dimensions['h']) / 2\n",
    "\n",
    "    def __repr__(self) -> str:\n",
    "        return super().__repr__()"
   ]
  },
  {
   "cell_type": "code",
   "execution_count": 61,
   "metadata": {},
   "outputs": [],
   "source": [
    "class Trapezoid(Figure):\n",
    "    def __init__(self, **dimensions) -> None:\n",
    "        super().__init__(**dimensions)\n",
    "\n",
    "    def get_area(self):\n",
    "        return (self.dimensions['a'] + self.dimensions['b']) * self.dimensions['h'] / 2\n",
    "\n",
    "    def __repr__(self) -> str:\n",
    "        return super().__repr__()"
   ]
  },
  {
   "cell_type": "code",
   "execution_count": 62,
   "metadata": {},
   "outputs": [],
   "source": [
    "with open('figures_schema.txt', newline='') as f:\n",
    "    reader = csv.reader(f)\n",
    "    read_lines = list(reader)[1:]\n",
    "    figures_definition = {class_name: dimensions for class_name, *dimensions in read_lines}\n",
    "\n",
    "with open('figures.txt', newline='') as f:\n",
    "    reader = csv.reader(f)\n",
    "    # take values only if already exist definition\n",
    "    figures = [values for values in reader if values[0] in list(figures_definition.keys())]"
   ]
  },
  {
   "cell_type": "code",
   "execution_count": 63,
   "metadata": {},
   "outputs": [
    {
     "data": {
      "text/plain": [
       "([['kwadrat', '3'],\n",
       "  ['trojkat', '2', '5'],\n",
       "  ['trapez', '10', '20', '3'],\n",
       "  ['kolo', '10'],\n",
       "  ['kolo', '15'],\n",
       "  ['kwadrat', '6']],\n",
       " {'kwadrat': ['a'],\n",
       "  'trojkat': ['a', 'h'],\n",
       "  'trapez': ['a', 'b', 'h'],\n",
       "  'kolo': ['r']})"
      ]
     },
     "execution_count": 63,
     "metadata": {},
     "output_type": "execute_result"
    }
   ],
   "source": [
    "figures, figures_definition"
   ]
  },
  {
   "cell_type": "code",
   "execution_count": 64,
   "metadata": {},
   "outputs": [
    {
     "data": {
      "text/plain": [
       "[('kwadrat', {'a': '3'}),\n",
       " ('trojkat', {'a': '2', 'h': '5'}),\n",
       " ('trapez', {'a': '10', 'b': '20', 'h': '3'}),\n",
       " ('kolo', {'r': '10'}),\n",
       " ('kolo', {'r': '15'}),\n",
       " ('kwadrat', {'a': '6'})]"
      ]
     },
     "execution_count": 64,
     "metadata": {},
     "output_type": "execute_result"
    }
   ],
   "source": [
    "mapped_figures = [(figure[0], dict(zip(figures_definition[figure[0]], figure[1:]))) for figure in figures]\n",
    "mapped_figures"
   ]
  },
  {
   "cell_type": "code",
   "execution_count": 65,
   "metadata": {},
   "outputs": [
    {
     "data": {
      "text/plain": [
       "defaultdict(list,\n",
       "            {'kwadrat': [{'a': '3'}, {'a': '6'}],\n",
       "             'trojkat': [{'a': '2', 'h': '5'}],\n",
       "             'trapez': [{'a': '10', 'b': '20', 'h': '3'}],\n",
       "             'kolo': [{'r': '10'}, {'r': '15'}]})"
      ]
     },
     "execution_count": 65,
     "metadata": {},
     "output_type": "execute_result"
    }
   ],
   "source": [
    "prepared_figures = defaultdict(list)\n",
    "for figure_name, dimensions in mapped_figures:\n",
    "    prepared_figures[figure_name].append(dimensions)\n",
    "prepared_figures"
   ]
  },
  {
   "cell_type": "code",
   "execution_count": 66,
   "metadata": {},
   "outputs": [
    {
     "data": {
      "text/plain": [
       "{'kwadrat': __main__.Square,\n",
       " 'trojkat': __main__.Triangle,\n",
       " 'trapez': __main__.Trapezoid,\n",
       " 'kolo': __main__.Circle}"
      ]
     },
     "execution_count": 66,
     "metadata": {},
     "output_type": "execute_result"
    }
   ],
   "source": [
    "mapped_types = {'kwadrat': Square, 'trojkat': Triangle, 'trapez': Trapezoid, 'kolo': Circle}\n",
    "mapped_types"
   ]
  },
  {
   "cell_type": "code",
   "execution_count": 67,
   "metadata": {},
   "outputs": [
    {
     "data": {
      "text/plain": [
       "dict_items([('kwadrat', [{'a': '3'}, {'a': '6'}]), ('trojkat', [{'a': '2', 'h': '5'}]), ('trapez', [{'a': '10', 'b': '20', 'h': '3'}]), ('kolo', [{'r': '10'}, {'r': '15'}])])"
      ]
     },
     "execution_count": 67,
     "metadata": {},
     "output_type": "execute_result"
    }
   ],
   "source": [
    "prepared_figures.items()"
   ]
  },
  {
   "cell_type": "code",
   "execution_count": 68,
   "metadata": {},
   "outputs": [
    {
     "name": "stdout",
     "output_type": "stream",
     "text": [
      "Category=kwadrat\n",
      "[Square   ], area=9.00  , dimensions={'a': 3}\n",
      "[Square   ], area=36.00 , dimensions={'a': 6}\n",
      "Category=trojkat\n",
      "[Triangle ], area=5.00  , dimensions={'a': 2, 'h': 5}\n",
      "Category=trapez\n",
      "[Trapezoid], area=45.00 , dimensions={'a': 10, 'b': 20, 'h': 3}\n",
      "Category=kolo\n",
      "[Circle   ], area=314.16, dimensions={'r': 10}\n",
      "[Circle   ], area=706.86, dimensions={'r': 15}\n"
     ]
    }
   ],
   "source": [
    "for category, items in prepared_figures.items():\n",
    "    print(f'Category={category}')\n",
    "    category_func = mapped_types[category]\n",
    "    for values in items:\n",
    "        result = category_func(**values)\n",
    "        print(result)\n",
    "\n",
    "    # figure_type = list(set(_figure.values()) & set(_figure.keys()))[0]\n",
    "    # _figure.pop(figure_type)\n",
    "    # new_figure = mapped_types[figure_type](**_figure)\n",
    "    # print(new_figure)"
   ]
  },
  {
   "cell_type": "code",
   "execution_count": 69,
   "metadata": {},
   "outputs": [
    {
     "data": {
      "text/plain": [
       "defaultdict(list,\n",
       "            {'Square': [[Square   ], area=9.00  , dimensions={'a': 3},\n",
       "              [Square   ], area=36.00 , dimensions={'a': 6}],\n",
       "             'Triangle': [[Triangle ], area=5.00  , dimensions={'a': 2, 'h': 5}],\n",
       "             'Trapezoid': [[Trapezoid], area=45.00 , dimensions={'a': 10, 'b': 20, 'h': 3}],\n",
       "             'Circle': [[Circle   ], area=314.16, dimensions={'r': 10},\n",
       "              [Circle   ], area=706.86, dimensions={'r': 15}]})"
      ]
     },
     "execution_count": 69,
     "metadata": {},
     "output_type": "execute_result"
    }
   ],
   "source": [
    "Figure.calculated_figures"
   ]
  },
  {
   "cell_type": "code",
   "execution_count": 70,
   "metadata": {},
   "outputs": [
    {
     "name": "stdout",
     "output_type": "stream",
     "text": [
      "Figures count\n",
      "Square=2\n",
      "Max area = [Square   ], area=36.00 , dimensions={'a': 6}\n",
      "Min area = [Square   ], area=9.00  , dimensions={'a': 3}\n",
      "Triangle=1\n",
      "Max area = [Triangle ], area=5.00  , dimensions={'a': 2, 'h': 5}\n",
      "Min area = [Triangle ], area=5.00  , dimensions={'a': 2, 'h': 5}\n",
      "Trapezoid=1\n",
      "Max area = [Trapezoid], area=45.00 , dimensions={'a': 10, 'b': 20, 'h': 3}\n",
      "Min area = [Trapezoid], area=45.00 , dimensions={'a': 10, 'b': 20, 'h': 3}\n",
      "Circle=2\n",
      "Max area = [Circle   ], area=706.86, dimensions={'r': 15}\n",
      "Min area = [Circle   ], area=314.16, dimensions={'r': 10}\n"
     ]
    }
   ],
   "source": [
    "Figure.statistics()"
   ]
  }
 ],
 "metadata": {
  "kernelspec": {
   "display_name": "Python 3.9.7 ('base')",
   "language": "python",
   "name": "python3"
  },
  "language_info": {
   "codemirror_mode": {
    "name": "ipython",
    "version": 3
   },
   "file_extension": ".py",
   "mimetype": "text/x-python",
   "name": "python",
   "nbconvert_exporter": "python",
   "pygments_lexer": "ipython3",
   "version": "3.9.7"
  },
  "orig_nbformat": 4,
  "vscode": {
   "interpreter": {
    "hash": "1f2e0de83fe549855a174fb6945e5577e3413e9e9f7ec7864d0f7206f698cf70"
   }
  }
 },
 "nbformat": 4,
 "nbformat_minor": 2
}
