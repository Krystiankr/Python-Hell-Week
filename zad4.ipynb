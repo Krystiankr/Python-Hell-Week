{
 "cells": [
  {
   "cell_type": "markdown",
   "metadata": {},
   "source": [
    "Zadanie 1\n",
    "\n",
    "Napisz metodę, która sprawdzi, czy podana wartość val znajduje się w liście liczb digits. Szkielet funkcji znajdziesz poniżej.\n",
    "\n",
    "\n",
    "from typing import List\n",
    "def f(val: int, digits: List[int]) -> bool\n",
    "write code here\n",
    "pass\n",
    "\n",
    "W celu ułatwienia Ci zadania, poniżej masz kawałek kodu, który przygotuje Ci losowe liczby do testowania Twojej metody.\n",
    "from random import randint\n",
    "n = 10 # Liczba elementów do wylosowania\n",
    "digits_example = [randint(-1000, 1000) for _ in range(n)]\n",
    "\n",
    "\n",
    "* Możesz zaszaleć i zobaczyć jak długo Twój kod wykonuje się przy np. milionie elementów w liście. - Czy Twoje podejście jakkolwiek się zmieni, jeżeli wiesz, że liczba elementów będzie duża?"
   ]
  },
  {
   "cell_type": "code",
   "execution_count": 7,
   "metadata": {},
   "outputs": [],
   "source": [
    "from typing import List\n",
    "from random import randint\n",
    "from functools import wraps\n",
    "from time import time"
   ]
  },
  {
   "cell_type": "code",
   "execution_count": 52,
   "metadata": {},
   "outputs": [],
   "source": [
    "@timing\n",
    "def f(val: int, digits: List[int]) -> bool:\n",
    "    return val in digits"
   ]
  },
  {
   "cell_type": "code",
   "execution_count": 6,
   "metadata": {},
   "outputs": [
    {
     "data": {
      "text/plain": [
       "[-279, 602, 205, -822, -626, 274, -441, -342, 669, -338]"
      ]
     },
     "execution_count": 6,
     "metadata": {},
     "output_type": "execute_result"
    }
   ],
   "source": [
    "n = 10 # Liczba elementów do wylosowania\n",
    "digits_example = [randint(-1000, 1000) for _ in range(n)]\n",
    "digits_example"
   ]
  },
  {
   "cell_type": "code",
   "execution_count": 51,
   "metadata": {},
   "outputs": [],
   "source": [
    "def timing(f):\n",
    "    @wraps(f)\n",
    "    def wrap(*args, **kw):\n",
    "        ts = time()\n",
    "        result = f(*args, **kw)\n",
    "        te = time()\n",
    "        print(f'Time took: {te-ts:.5f}', end=', ')\n",
    "        return result\n",
    "    return wrap"
   ]
  },
  {
   "cell_type": "code",
   "execution_count": 35,
   "metadata": {},
   "outputs": [],
   "source": [
    "list_length = 1_000\n",
    "main_list = [randint(-100_000, 100_000) for _ in range(list_length)]"
   ]
  },
  {
   "cell_type": "code",
   "execution_count": 53,
   "metadata": {},
   "outputs": [
    {
     "name": "stdout",
     "output_type": "stream",
     "text": [
      "Time took: 0.00199, Is -279 in main_list = True \n",
      "Time took: 0.00599, Is 602 in main_list = True \n",
      "Time took: 0.00297, Is 205 in main_list = True \n",
      "Time took: 0.00598, Is -822 in main_list = True \n",
      "Time took: 0.01396, Is -626 in main_list = True \n",
      "Time took: 0.00000, Is 274 in main_list = True \n",
      "Time took: 0.00598, Is -441 in main_list = True \n",
      "Time took: 0.00954, Is -342 in main_list = True \n",
      "Time took: 0.00798, Is 669 in main_list = True \n",
      "Time took: 0.02793, Is -338 in main_list = True \n"
     ]
    }
   ],
   "source": [
    "for digit in digits_example:\n",
    "    print(f'Is {digit} in main_list = {f(digit, main_list)}', end=' ')\n",
    "    print()"
   ]
  },
  {
   "cell_type": "code",
   "execution_count": 54,
   "metadata": {},
   "outputs": [
    {
     "name": "stdout",
     "output_type": "stream",
     "text": [
      "Time took: 0.00101, Is -279 in main_list = False \n",
      "Time took: 0.00000, Is 602 in main_list = False \n",
      "Time took: 0.00000, Is 205 in main_list = False \n",
      "Time took: 0.00097, Is -822 in main_list = False \n",
      "Time took: 0.00000, Is -626 in main_list = False \n",
      "Time took: 0.00099, Is 274 in main_list = False \n",
      "Time took: 0.00000, Is -441 in main_list = False \n",
      "Time took: 0.00000, Is -342 in main_list = False \n",
      "Time took: 0.00099, Is 669 in main_list = False \n",
      "Time took: 0.00000, Is -338 in main_list = False \n"
     ]
    }
   ],
   "source": [
    "list_length = 10_000\n",
    "main_list = [randint(-100_000, 100_000) for _ in range(list_length)]\n",
    "for digit in digits_example:\n",
    "    print(f'Is {digit} in main_list = {f(digit, main_list)}', end=' ')\n",
    "    print()"
   ]
  },
  {
   "cell_type": "code",
   "execution_count": 55,
   "metadata": {},
   "outputs": [
    {
     "name": "stdout",
     "output_type": "stream",
     "text": [
      "Time took: 0.00199, Is -279 in main_list = False \n",
      "Time took: 0.00000, Is 602 in main_list = True \n",
      "Time took: 0.00000, Is 205 in main_list = True \n",
      "Time took: 0.00201, Is -822 in main_list = False \n",
      "Time took: 0.00099, Is -626 in main_list = False \n",
      "Time took: 0.00000, Is 274 in main_list = True \n",
      "Time took: 0.00199, Is -441 in main_list = False \n",
      "Time took: 0.00196, Is -342 in main_list = False \n",
      "Time took: 0.00103, Is 669 in main_list = False \n",
      "Time took: 0.00200, Is -338 in main_list = False \n"
     ]
    }
   ],
   "source": [
    "list_length = 100_000\n",
    "main_list = [randint(-100_000, 100_000) for _ in range(list_length)]\n",
    "for digit in digits_example:\n",
    "    print(f'Is {digit} in main_list = {f(digit, main_list)}', end=' ')\n",
    "    print()"
   ]
  },
  {
   "cell_type": "code",
   "execution_count": 56,
   "metadata": {},
   "outputs": [
    {
     "name": "stdout",
     "output_type": "stream",
     "text": [
      "Time took: 0.00000, Is -279 in main_list = True \n",
      "Time took: 0.00000, Is 602 in main_list = True \n",
      "Time took: 0.00196, Is 205 in main_list = True \n",
      "Time took: 0.00698, Is -822 in main_list = True \n",
      "Time took: 0.00201, Is -626 in main_list = True \n",
      "Time took: 0.00000, Is 274 in main_list = True \n",
      "Time took: 0.00199, Is -441 in main_list = True \n",
      "Time took: 0.00096, Is -342 in main_list = True \n",
      "Time took: 0.00599, Is 669 in main_list = True \n",
      "Time took: 0.00201, Is -338 in main_list = True \n"
     ]
    }
   ],
   "source": [
    "list_length = 1_000_000\n",
    "main_list = [randint(-100_000, 100_000) for _ in range(list_length)]\n",
    "for digit in digits_example:\n",
    "    print(f'Is {digit} in main_list = {f(digit, main_list)}', end=' ')\n",
    "    print()"
   ]
  },
  {
   "cell_type": "markdown",
   "metadata": {},
   "source": [
    "# Function still works very fast"
   ]
  },
  {
   "cell_type": "markdown",
   "metadata": {},
   "source": [
    "Zadanie 2\n",
    "\n",
    "Użytkownik podaje liczbę w zakresie od 101 - 99999.\n",
    "Napisz program, który zamieni kolejnością cyfry w podanej liczbie.\n",
    "\n",
    "Przykład\n",
    "\n",
    "365 -> 563<br>\n",
    "90238 -> 83209"
   ]
  },
  {
   "cell_type": "code",
   "execution_count": 64,
   "metadata": {},
   "outputs": [
    {
     "name": "stdout",
     "output_type": "stream",
     "text": [
      "Your number 90238 in revert order = 83209 (palindrom case)\n"
     ]
    }
   ],
   "source": [
    "number = input('Give a number in the range 101-99999')\n",
    "try:\n",
    "    number = int(number)\n",
    "    if 101 <= number <= 99999:\n",
    "        print(f'Your number {number} in revert order = {str(number)[::-1]} (palindrom case)')\n",
    "    else:\n",
    "        raise ValueError\n",
    "except ValueError:\n",
    "    print('Number should be from the range 101-99999')"
   ]
  },
  {
   "cell_type": "code",
   "execution_count": null,
   "metadata": {},
   "outputs": [],
   "source": []
  }
 ],
 "metadata": {
  "kernelspec": {
   "display_name": "Python 3.9.12 ('base')",
   "language": "python",
   "name": "python3"
  },
  "language_info": {
   "codemirror_mode": {
    "name": "ipython",
    "version": 3
   },
   "file_extension": ".py",
   "mimetype": "text/x-python",
   "name": "python",
   "nbconvert_exporter": "python",
   "pygments_lexer": "ipython3",
   "version": "3.9.12"
  },
  "orig_nbformat": 4,
  "vscode": {
   "interpreter": {
    "hash": "6bf935109b51d5a61976269f5fda458e5ad0be9f60433eebe09071d2ba589f32"
   }
  }
 },
 "nbformat": 4,
 "nbformat_minor": 2
}
