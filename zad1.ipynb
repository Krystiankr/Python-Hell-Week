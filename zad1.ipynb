{
 "cells": [
  {
   "cell_type": "markdown",
   "metadata": {},
   "source": [
    "Gra w zgadywanie\n",
    "\n",
    "System losuje liczbę całkowitą z przedziału 1 do 256. Następnie prosi użytkownika o zgadnięcie liczby.\n",
    "Po każdorazowym wpisaniu liczby przez gracza system pokazuje informację:\n",
    "- \"za mało\", gdy podana liczba jest za niska\n",
    "- \"za dużo\", gdy podana liczba jest za wysoka\n",
    "\n",
    "Runda kończy się, gdy użytkownik poda poprawną liczbę. Użytkownik powinien mieć możliwość wyboru, czy chce zagrać jeszcze raz."
   ]
  },
  {
   "cell_type": "markdown",
   "metadata": {},
   "source": [
    "### Plan\n",
    "1. Random word between 1 to 256\n",
    "2. ask a user about number\n",
    "3. display a relevant message\n",
    "4.  ask again"
   ]
  },
  {
   "cell_type": "code",
   "execution_count": 1,
   "metadata": {},
   "outputs": [],
   "source": [
    "import random"
   ]
  },
  {
   "cell_type": "code",
   "execution_count": 22,
   "metadata": {},
   "outputs": [
    {
     "name": "stdout",
     "output_type": "stream",
     "text": [
      "Welcome!\n",
      "Specify an integer between 1 and 256\n",
      "Try again...too few\n",
      "Specify an integer between 1 and 256\n",
      "Try again...too much\n",
      "Specify an integer between 1 and 256\n",
      "Try again...too few\n",
      "Specify an integer between 1 and 256\n",
      "Try again...too much\n",
      "Specify an integer between 1 and 256\n",
      "Try again...too few\n",
      "Specify an integer between 1 and 256\n",
      "Try again...too few\n",
      "Specify an integer between 1 and 256\n",
      "Try again...too few\n",
      "Specify an integer between 1 and 256\n",
      "Try again...too much\n",
      "Congratulations the winning number is 128, are you playing on? (yes/no)\n",
      "Specify an integer between 1 and 256\n",
      "Try again...too few\n",
      "Specify an integer between 1 and 256\n",
      "Try again...too few\n",
      "Specify an integer between 1 and 256\n",
      "Try again...too few\n",
      "Specify an integer between 1 and 256\n",
      "Try again...too few\n",
      "Specify an integer between 1 and 256\n",
      "Try again...too few\n",
      "Specify an integer between 1 and 256\n",
      "Try again...too few\n",
      "Specify an integer between 1 and 256\n",
      "Try again...too much\n",
      "Specify an integer between 1 and 256\n",
      "Try again...too few\n",
      "Congratulations the winning number is 215, are you playing on? (yes/no)\n",
      "End game.\n"
     ]
    }
   ],
   "source": [
    "print('Welcome!')\n",
    "next_game = True\n",
    "\n",
    "while next_game:\n",
    "    random_number = random.randint(1, 256)\n",
    "    while x := input('Type a number between 1 to 256'):\n",
    "        try:\n",
    "            x = int(x)\n",
    "            if x == random_number:\n",
    "                print(f'Congratulations the winning number is {x}, are you playing on? (yes/no)')\n",
    "                break\n",
    "            else:\n",
    "                print('Specify an integer between 1 and 256')\n",
    "            print(f'Try again...{\"too few\" if x < random_number else \"too much\"}')\n",
    "        except ValueError:\n",
    "            print('Specify an integer between 1 and 256')\n",
    "\n",
    "    ask = input('Will you play again?')\n",
    "    next_game = ask.lower() == \"yes\"\n",
    "print('End game.')"
   ]
  },
  {
   "cell_type": "code",
   "execution_count": null,
   "metadata": {},
   "outputs": [],
   "source": []
  }
 ],
 "metadata": {
  "kernelspec": {
   "display_name": "Python 3.9.12 ('base')",
   "language": "python",
   "name": "python3"
  },
  "language_info": {
   "codemirror_mode": {
    "name": "ipython",
    "version": 3
   },
   "file_extension": ".py",
   "mimetype": "text/x-python",
   "name": "python",
   "nbconvert_exporter": "python",
   "pygments_lexer": "ipython3",
   "version": "3.9.12"
  },
  "orig_nbformat": 4,
  "vscode": {
   "interpreter": {
    "hash": "6bf935109b51d5a61976269f5fda458e5ad0be9f60433eebe09071d2ba589f32"
   }
  }
 },
 "nbformat": 4,
 "nbformat_minor": 2
}
