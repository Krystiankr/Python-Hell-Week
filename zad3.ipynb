{
 "cells": [
  {
   "cell_type": "markdown",
   "metadata": {},
   "source": [
    "### Zadanie 3\n",
    "Gra w darta\n",
    "\n",
    "Dane wejściowe\n",
    "Plikiem wsadowym do zadania jest scores.csv. Pokazany pod treścią zadania.\n",
    "\n",
    "Treść\n",
    "\n",
    "Darek, Zdzisiek i Edek grali w rzutki i zapisali wyniki z 10 rozgrywek.\n",
    "\n",
    "Napisz program, który przeanalizuje tabelę z wynikami poszczególnych rozgrywek zapisanych w pliku scores.csv (1 linijka pliku = 1 rozgrywka).\n",
    "\n",
    "Osoba z największą liczbą punktów wygrywa.\n",
    "\n",
    "Punkty zdobywane za 1 rundę:\n",
    "+3 pkt — za wygraną (najwięcej punktów) w danej rozgrywce\n",
    "-1 pkt — za najgorszy wynik\n",
    "0 pkt — w innych przypadkach\n",
    "\n",
    "Każda rozgrywka powinna być opisana, kto ile zdobył punktów.\n",
    "\n",
    "Po przeanalizowaniu wszystkich wyników program powinien wyświetlić podsumowanie z końcowymi wynikami."
   ]
  },
  {
   "cell_type": "markdown",
   "metadata": {},
   "source": [
    "### Some assumptions from me<br>\n",
    " If there is a letter in the number then I remove unnecessary characters<br>\n",
    " If value is missing I assume that there is a tie at 0 points each<br>\n",
    " If everyone has the same number of points then everyone has the max<br>"
   ]
  },
  {
   "cell_type": "code",
   "execution_count": 96,
   "metadata": {},
   "outputs": [
    {
     "name": "stdout",
     "output_type": "stream",
     "text": [
      "The winner is: Edek! Congratulations!\n",
      "\n",
      "Points per each person\n",
      "Edek = 14 points\n",
      "Darek = 3 points\n",
      "Zdzisiek = -2 points\n"
     ]
    }
   ],
   "source": [
    "import csv\n",
    "import re\n",
    "from collections import defaultdict\n",
    "\n",
    "\n",
    "def prepare_row(row: list):\n",
    "    only_digits = [re.sub('\\D', '', item) for item in row]\n",
    "    fill_zeros = [int(item) if item else 0 for item in only_digits]\n",
    "    return fill_zeros\n",
    "\n",
    "def get_scores(row: list):\n",
    "    score_row = [0] * 3\n",
    "    row = prepare_row(row)\n",
    "    if sum(row) == 0:\n",
    "        return score_row\n",
    "    for i, item in enumerate(row):\n",
    "        if item == max(row):\n",
    "            value = 3\n",
    "        elif item == min(row):\n",
    "            value = -1\n",
    "        else:\n",
    "            value = 0\n",
    "        score_row[i] = value \n",
    "    return score_row\n",
    "\n",
    "scores = []\n",
    "scores_people = defaultdict(int)\n",
    "\n",
    "with open('scores.csv', newline='') as f:\n",
    "    reader = csv.reader(f)\n",
    "    scores = list(reader)\n",
    "\n",
    "names = scores[0]\n",
    "for row in scores[1:]:\n",
    "    given_points = dict(zip(names, get_scores(row)))\n",
    "    for person in names:\n",
    "        scores_people[person] += given_points[person]\n",
    "\n",
    "print(f'The winner is: {max(scores_people, key=scores_people.get)}! Congratulations!\\n')\n",
    "print('Points per each person')\n",
    "sorted_winners = sorted(scores_people.items(), key=lambda kv: kv[1], reverse=True)\n",
    "for name, value in sorted_winners:\n",
    "    print(f'{name} = {value} points')"
   ]
  }
 ],
 "metadata": {
  "kernelspec": {
   "display_name": "Python 3.9.12 ('base')",
   "language": "python",
   "name": "python3"
  },
  "language_info": {
   "codemirror_mode": {
    "name": "ipython",
    "version": 3
   },
   "file_extension": ".py",
   "mimetype": "text/x-python",
   "name": "python",
   "nbconvert_exporter": "python",
   "pygments_lexer": "ipython3",
   "version": "3.9.12"
  },
  "orig_nbformat": 4,
  "vscode": {
   "interpreter": {
    "hash": "6bf935109b51d5a61976269f5fda458e5ad0be9f60433eebe09071d2ba589f32"
   }
  }
 },
 "nbformat": 4,
 "nbformat_minor": 2
}
