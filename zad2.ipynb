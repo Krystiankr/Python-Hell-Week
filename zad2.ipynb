{
 "cells": [
  {
   "cell_type": "markdown",
   "metadata": {},
   "source": [
    "### Day two\n",
    "\n",
    "Prosta analiza tekstu\n",
    "\n",
    "Do zadania będziesz potrzebować pliku tekstowego o nazwie content.txt. Do pliku możesz wpisać jakikolwiek, wieloliniowy tekst, który będziesz analizować.\n",
    "\n",
    "Ale jak nie chcesz wymyślać to tutaj proszę trochę treści dla Ciebie.\n",
    "\n",
    "Tom started to learn Python five months ago.\n",
    "He lives in London. He wants to be a programmer.\n",
    "Python is all he can think off right now.\n",
    "Zadanie 1.<br>\n",
    "Z pliku tekstowego wypisz w konsoli, tylko linie ze słowem Python."
   ]
  },
  {
   "cell_type": "code",
   "execution_count": 9,
   "metadata": {},
   "outputs": [
    {
     "name": "stdout",
     "output_type": "stream",
     "text": [
      "Tom started to learn Python five months ago.\n",
      "Python is all he can think off right now.\n"
     ]
    }
   ],
   "source": [
    "with open('content.txt', mode='r', encoding='utf8') as f:\n",
    "    lines = [line.replace('\\n', '') for line in f.readlines() if 'Python' in line]\n",
    "    for line in lines:\n",
    "        print(line)"
   ]
  },
  {
   "cell_type": "markdown",
   "metadata": {},
   "source": [
    "Zadanie 2.<br>\n",
    "Z pliku tekstowego wypisz w konsoli, słowa rozpoczynające się na literę podaną przez użytkownika."
   ]
  },
  {
   "cell_type": "code",
   "execution_count": 55,
   "metadata": {},
   "outputs": [
    {
     "name": "stdout",
     "output_type": "stream",
     "text": [
      "Words beginning with \"r\": right\n"
     ]
    }
   ],
   "source": [
    "def read_content(file_name: str) -> set:\n",
    "    with open(file_name, mode='r', encoding='utf8') as f:\n",
    "        lines = [line.replace('\\n', '') for line in f.readlines()]\n",
    "        words = set()\n",
    "        for line in lines:\n",
    "            words |= set(line.split(' '))\n",
    "    return words\n",
    "\n",
    "start_with = input('Enter the letter, I will give you the words that begin with it')\n",
    "filtered_words = list(filter(lambda word: word.startswith(start_with), read_content('content.txt')))\n",
    "print(f'Words beginning with \"{start_with}\": {\", \".join(filtered_words)}')"
   ]
  },
  {
   "cell_type": "code",
   "execution_count": null,
   "metadata": {},
   "outputs": [],
   "source": []
  }
 ],
 "metadata": {
  "kernelspec": {
   "display_name": "Python 3.9.12 ('base')",
   "language": "python",
   "name": "python3"
  },
  "language_info": {
   "codemirror_mode": {
    "name": "ipython",
    "version": 3
   },
   "file_extension": ".py",
   "mimetype": "text/x-python",
   "name": "python",
   "nbconvert_exporter": "python",
   "pygments_lexer": "ipython3",
   "version": "3.9.12"
  },
  "orig_nbformat": 4,
  "vscode": {
   "interpreter": {
    "hash": "6bf935109b51d5a61976269f5fda458e5ad0be9f60433eebe09071d2ba589f32"
   }
  }
 },
 "nbformat": 4,
 "nbformat_minor": 2
}
